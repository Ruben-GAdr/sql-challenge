{
 "cells": [
  {
   "cell_type": "code",
   "execution_count": 1,
   "id": "99b81a9a-caf3-444b-805e-8015e28e6fe8",
   "metadata": {},
   "outputs": [],
   "source": [
    "import pandas as pd\n",
    "\n",
    "# Ruta al archivo CSV original\n",
    "file_path = 'data/employees.csv'\n",
    "\n",
    "# Cargar el archivo CSV en un DataFrame\n",
    "df = pd.read_csv(file_path)\n",
    "\n",
    "# Convertir las columnas 'birth_date' y 'hire_date' al formato de fecha adecuado\n",
    "df['birth_date'] = pd.to_datetime(df['birth_date'], format='%m/%d/%Y').dt.strftime('%d/%m/%Y')\n",
    "df['hire_date'] = pd.to_datetime(df['hire_date'], format='%m/%d/%Y').dt.strftime('%d/%m/%Y')\n",
    "\n",
    "# Guardar el archivo corregido\n",
    "output_path = 'path/employees_c.csv'\n",
    "df.to_csv(output_path, index=False)\n",
    "\n",
    "# print(f'Archivo corregido guardado en: {output_path}')"
   ]
  }
 ],
 "metadata": {
  "kernelspec": {
   "display_name": "Python 3 (ipykernel)",
   "language": "python",
   "name": "python3"
  },
  "language_info": {
   "codemirror_mode": {
    "name": "ipython",
    "version": 3
   },
   "file_extension": ".py",
   "mimetype": "text/x-python",
   "name": "python",
   "nbconvert_exporter": "python",
   "pygments_lexer": "ipython3",
   "version": "3.12.4"
  }
 },
 "nbformat": 4,
 "nbformat_minor": 5
}

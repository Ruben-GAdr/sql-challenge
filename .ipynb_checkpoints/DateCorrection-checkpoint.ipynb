{
 "cells": [
  {
   "cell_type": "code",
   "execution_count": null,
   "id": "a2a9d1fc-6f76-4710-a1c4-598900bd6288",
   "metadata": {},
   "outputs": [],
   "source": [
    "import pandas as pd\n",
    "import psycopg2\n",
    "from datetime import datetime"
   ]
  },
  {
   "cell_type": "code",
   "execution_count": null,
   "id": "60803caa-b0c7-470d-8896-c2a99fcb54b2",
   "metadata": {},
   "outputs": [],
   "source": [
    "# Conexión a la base de datos\n",
    "conn = psycopg2.connect(\n",
    "    host=\"servers\",\n",
    "    database=\"employees\",\n",
    "    user=\"postgres\",\n",
    "    password=\"postgres\"\n",
    ")\n",
    "cur = conn.cursor()\n",
    "\n",
    "# Cargar el archivo CSV en un DataFrame de pandas\n",
    "df = pd.read_csv('/ruta/a/tu/archivo/hire_dates.csv', header=0)\n",
    "\n",
    "# Convertir las fechas al formato 'dd/mm/yyyy'\n",
    "df['hire_date'] = pd.to_datetime(df['hire_date']).dt.strftime('%d/%m/%Y')\n",
    "\n",
    "# Crear la tabla en la base de datos (si no existe)\n",
    "cur.execute('''\n",
    "    CREATE TABLE IF NOT EXISTS hire_dates (\n",
    "        hire_date DATE\n",
    "    )\n",
    "''')\n",
    "\n",
    "# Insertar los datos en la tabla\n",
    "for index, row in df.iterrows():\n",
    "    cur.execute(\n",
    "        \"INSERT INTO hire_dates (hire_date) VALUES (%s)\", \n",
    "        (datetime.strptime(row['hire_date'], '%d/%m/%Y'),)\n",
    "    )\n",
    "\n",
    "# Confirmar los cambios y cerrar la conexión\n",
    "conn.commit()\n",
    "cur.close()\n",
    "conn.close()\n",
    "\n",
    "print(\"Datos importados y fechas formateadas correctamente.\")"
   ]
  }
 ],
 "metadata": {
  "kernelspec": {
   "display_name": "Python 3 (ipykernel)",
   "language": "python",
   "name": "python3"
  },
  "language_info": {
   "codemirror_mode": {
    "name": "ipython",
    "version": 3
   },
   "file_extension": ".py",
   "mimetype": "text/x-python",
   "name": "python",
   "nbconvert_exporter": "python",
   "pygments_lexer": "ipython3",
   "version": "3.12.4"
  }
 },
 "nbformat": 4,
 "nbformat_minor": 5
}
